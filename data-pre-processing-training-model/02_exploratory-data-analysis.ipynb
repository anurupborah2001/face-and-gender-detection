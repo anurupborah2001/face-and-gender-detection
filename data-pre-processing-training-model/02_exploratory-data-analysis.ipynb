{
 "cells": [
  {
   "cell_type": "markdown",
   "id": "6bae6b3f",
   "metadata": {},
   "source": [
    "# Exploratory Data Analysis\n",
    "1. Distribution of Male and Female \n",
    " - Bar Chart\n",
    " - Pie Chart\n",
    "2. What Distribution of size of all Images\n",
    " - Histogram\n",
    " - Box Plot\n",
    " - Split by “Gender”\n",
    "3. Make the decision of width & height to resize using above chart.\n",
    "4. Remove the few images that are having very less size"
   ]
  },
  {
   "cell_type": "code",
   "execution_count": 2,
   "id": "8457f204",
   "metadata": {},
   "outputs": [
    {
     "name": "stdout",
     "output_type": "stream",
     "text": [
      "/bin/bash: /Users/anuborah@sphnet.com.sg/IdeaProjects/face-recognition/venv/bin/pip: /Users/anuborah@sphnet.com.sg/IdeaProjects/sph-projects/face-recognition/venv/: bad interpreter: No such file or directory\n"
     ]
    }
   ],
   "source": [
    "!pip install seaborn"
   ]
  },
  {
   "cell_type": "code",
   "execution_count": 3,
   "id": "891cd802",
   "metadata": {},
   "outputs": [],
   "source": [
    "import numpy as np\n",
    "import pandas as pd\n",
    "\n",
    "# visualization\n",
    "import matplotlib.pyplot as plt\n",
    "import seaborn as sns\n",
    "\n",
    "# computer vision library\n",
    "import cv2\n",
    "\n",
    "# glob\n",
    "from glob import glob"
   ]
  },
  {
   "cell_type": "code",
   "execution_count": 4,
   "id": "2f9d0710",
   "metadata": {},
   "outputs": [],
   "source": [
    "import warnings\n",
    "warnings.filterwarnings('ignore')"
   ]
  },
  {
   "cell_type": "code",
   "execution_count": 5,
   "id": "e0163aee",
   "metadata": {},
   "outputs": [],
   "source": [
    "# extract path of male and female in crop_data folder and put them in a list\n",
    "fpath = glob('./crop_data/female/*.jpg')\n",
    "mpath = glob('./crop_data/male/*.jpg')"
   ]
  },
  {
   "cell_type": "code",
   "execution_count": 6,
   "id": "ffce1049",
   "metadata": {},
   "outputs": [
    {
     "data": {
      "text/html": [
       "<div>\n",
       "<style scoped>\n",
       "    .dataframe tbody tr th:only-of-type {\n",
       "        vertical-align: middle;\n",
       "    }\n",
       "\n",
       "    .dataframe tbody tr th {\n",
       "        vertical-align: top;\n",
       "    }\n",
       "\n",
       "    .dataframe thead th {\n",
       "        text-align: right;\n",
       "    }\n",
       "</style>\n",
       "<table border=\"1\" class=\"dataframe\">\n",
       "  <thead>\n",
       "    <tr style=\"text-align: right;\">\n",
       "      <th></th>\n",
       "      <th>filepath</th>\n",
       "      <th>gender</th>\n",
       "    </tr>\n",
       "  </thead>\n",
       "  <tbody>\n",
       "    <tr>\n",
       "      <th>0</th>\n",
       "      <td>./crop_data/female/female_2.jpg</td>\n",
       "      <td>female</td>\n",
       "    </tr>\n",
       "    <tr>\n",
       "      <th>1</th>\n",
       "      <td>./crop_data/female/female_3933.jpg</td>\n",
       "      <td>female</td>\n",
       "    </tr>\n",
       "    <tr>\n",
       "      <th>2</th>\n",
       "      <td>./crop_data/female/female_4084.jpg</td>\n",
       "      <td>female</td>\n",
       "    </tr>\n",
       "    <tr>\n",
       "      <th>3</th>\n",
       "      <td>./crop_data/female/female_1842.jpg</td>\n",
       "      <td>female</td>\n",
       "    </tr>\n",
       "    <tr>\n",
       "      <th>4</th>\n",
       "      <td>./crop_data/female/female_2393.jpg</td>\n",
       "      <td>female</td>\n",
       "    </tr>\n",
       "  </tbody>\n",
       "</table>\n",
       "</div>"
      ],
      "text/plain": [
       "                             filepath  gender\n",
       "0     ./crop_data/female/female_2.jpg  female\n",
       "1  ./crop_data/female/female_3933.jpg  female\n",
       "2  ./crop_data/female/female_4084.jpg  female\n",
       "3  ./crop_data/female/female_1842.jpg  female\n",
       "4  ./crop_data/female/female_2393.jpg  female"
      ]
     },
     "execution_count": 6,
     "metadata": {},
     "output_type": "execute_result"
    }
   ],
   "source": [
    "df_female = pd.DataFrame(fpath,columns=['filepath'])\n",
    "df_female['gender'] = 'female'\n",
    "\n",
    "df_male = pd.DataFrame(mpath,columns=['filepath'])\n",
    "df_male['gender'] = 'male'\n",
    "\n",
    "df = pd.concat((df_female,df_male),axis=0)\n",
    "\n",
    "df.head()"
   ]
  },
  {
   "cell_type": "code",
   "execution_count": 7,
   "id": "37cd2544",
   "metadata": {},
   "outputs": [
    {
     "data": {
      "text/html": [
       "<div>\n",
       "<style scoped>\n",
       "    .dataframe tbody tr th:only-of-type {\n",
       "        vertical-align: middle;\n",
       "    }\n",
       "\n",
       "    .dataframe tbody tr th {\n",
       "        vertical-align: top;\n",
       "    }\n",
       "\n",
       "    .dataframe thead th {\n",
       "        text-align: right;\n",
       "    }\n",
       "</style>\n",
       "<table border=\"1\" class=\"dataframe\">\n",
       "  <thead>\n",
       "    <tr style=\"text-align: right;\">\n",
       "      <th></th>\n",
       "      <th>filepath</th>\n",
       "      <th>gender</th>\n",
       "    </tr>\n",
       "  </thead>\n",
       "  <tbody>\n",
       "    <tr>\n",
       "      <th>2170</th>\n",
       "      <td>./crop_data/male/male_3027.jpg</td>\n",
       "      <td>male</td>\n",
       "    </tr>\n",
       "    <tr>\n",
       "      <th>2171</th>\n",
       "      <td>./crop_data/male/male_1156.jpg</td>\n",
       "      <td>male</td>\n",
       "    </tr>\n",
       "    <tr>\n",
       "      <th>2172</th>\n",
       "      <td>./crop_data/male/male_622.jpg</td>\n",
       "      <td>male</td>\n",
       "    </tr>\n",
       "    <tr>\n",
       "      <th>2173</th>\n",
       "      <td>./crop_data/male/male_4984.jpg</td>\n",
       "      <td>male</td>\n",
       "    </tr>\n",
       "    <tr>\n",
       "      <th>2174</th>\n",
       "      <td>./crop_data/male/male_144.jpg</td>\n",
       "      <td>male</td>\n",
       "    </tr>\n",
       "  </tbody>\n",
       "</table>\n",
       "</div>"
      ],
      "text/plain": [
       "                            filepath gender\n",
       "2170  ./crop_data/male/male_3027.jpg   male\n",
       "2171  ./crop_data/male/male_1156.jpg   male\n",
       "2172   ./crop_data/male/male_622.jpg   male\n",
       "2173  ./crop_data/male/male_4984.jpg   male\n",
       "2174   ./crop_data/male/male_144.jpg   male"
      ]
     },
     "execution_count": 7,
     "metadata": {},
     "output_type": "execute_result"
    }
   ],
   "source": [
    "df.tail()"
   ]
  },
  {
   "cell_type": "code",
   "execution_count": 8,
   "id": "14015fae",
   "metadata": {},
   "outputs": [
    {
     "data": {
      "text/plain": [
       "(5976, 2)"
      ]
     },
     "execution_count": 8,
     "metadata": {},
     "output_type": "execute_result"
    }
   ],
   "source": [
    "df.shape"
   ]
  },
  {
   "cell_type": "code",
   "execution_count": 9,
   "id": "cb12d392",
   "metadata": {},
   "outputs": [],
   "source": [
    "# it will take each image path\n",
    "# then return width of the image\n",
    "def get_size(path):\n",
    "    img = cv2.imread(path)\n",
    "    return img.shape[0]"
   ]
  },
  {
   "cell_type": "code",
   "execution_count": 10,
   "id": "b097448b",
   "metadata": {},
   "outputs": [],
   "source": [
    "df['dimension'] = df['filepath'].apply(get_size) # store dimension of image in this columns"
   ]
  },
  {
   "cell_type": "code",
   "execution_count": 11,
   "id": "e36ed276",
   "metadata": {},
   "outputs": [
    {
     "data": {
      "text/html": [
       "<div>\n",
       "<style scoped>\n",
       "    .dataframe tbody tr th:only-of-type {\n",
       "        vertical-align: middle;\n",
       "    }\n",
       "\n",
       "    .dataframe tbody tr th {\n",
       "        vertical-align: top;\n",
       "    }\n",
       "\n",
       "    .dataframe thead th {\n",
       "        text-align: right;\n",
       "    }\n",
       "</style>\n",
       "<table border=\"1\" class=\"dataframe\">\n",
       "  <thead>\n",
       "    <tr style=\"text-align: right;\">\n",
       "      <th></th>\n",
       "      <th>filepath</th>\n",
       "      <th>gender</th>\n",
       "      <th>dimension</th>\n",
       "    </tr>\n",
       "  </thead>\n",
       "  <tbody>\n",
       "    <tr>\n",
       "      <th>0</th>\n",
       "      <td>./crop_data/female/female_2.jpg</td>\n",
       "      <td>female</td>\n",
       "      <td>273</td>\n",
       "    </tr>\n",
       "    <tr>\n",
       "      <th>1</th>\n",
       "      <td>./crop_data/female/female_3933.jpg</td>\n",
       "      <td>female</td>\n",
       "      <td>273</td>\n",
       "    </tr>\n",
       "    <tr>\n",
       "      <th>2</th>\n",
       "      <td>./crop_data/female/female_4084.jpg</td>\n",
       "      <td>female</td>\n",
       "      <td>182</td>\n",
       "    </tr>\n",
       "    <tr>\n",
       "      <th>3</th>\n",
       "      <td>./crop_data/female/female_1842.jpg</td>\n",
       "      <td>female</td>\n",
       "      <td>54</td>\n",
       "    </tr>\n",
       "    <tr>\n",
       "      <th>4</th>\n",
       "      <td>./crop_data/female/female_2393.jpg</td>\n",
       "      <td>female</td>\n",
       "      <td>182</td>\n",
       "    </tr>\n",
       "  </tbody>\n",
       "</table>\n",
       "</div>"
      ],
      "text/plain": [
       "                             filepath  gender  dimension\n",
       "0     ./crop_data/female/female_2.jpg  female        273\n",
       "1  ./crop_data/female/female_3933.jpg  female        273\n",
       "2  ./crop_data/female/female_4084.jpg  female        182\n",
       "3  ./crop_data/female/female_1842.jpg  female         54\n",
       "4  ./crop_data/female/female_2393.jpg  female        182"
      ]
     },
     "execution_count": 11,
     "metadata": {},
     "output_type": "execute_result"
    }
   ],
   "source": [
    "df.head()"
   ]
  },
  {
   "cell_type": "markdown",
   "id": "ffce8ad1",
   "metadata": {},
   "source": [
    "#### Exploratory Data Analysis\n",
    "1. Distribution of Male and Female \n",
    " - Bar Chart\n",
    " - Pie Chart\n",
    "2. What Distribution of size of all Images\n",
    " - Histogram\n",
    " - Box Plot\n",
    " - Split by “Gender”\n",
    "3. Make the decision of width & height to resize using above chart.\n",
    "4. Remove the few images that are having very less size"
   ]
  },
  {
   "cell_type": "code",
   "execution_count": 12,
   "id": "9eaef530",
   "metadata": {},
   "outputs": [
    {
     "data": {
      "text/plain": [
       "gender\n",
       "female    3801\n",
       "male      2175\n",
       "Name: count, dtype: int64"
      ]
     },
     "execution_count": 12,
     "metadata": {},
     "output_type": "execute_result"
    }
   ],
   "source": [
    "dist_gender = df['gender'].value_counts()\n",
    "dist_gender"
   ]
  },
  {
   "cell_type": "code",
   "execution_count": 13,
   "id": "5b067741",
   "metadata": {},
   "outputs": [
    {
     "data": {
      "image/png": "[encoded data removed]",
      "text/plain": [
       "<Figure size 640x480 with 2 Axes>"
      ]
     },
     "metadata": {},
     "output_type": "display_data"
    }
   ],
   "source": [
    "fig,ax = plt.subplots(nrows=1,ncols=2)\n",
    "dist_gender.plot(kind='bar',ax=ax[0])\n",
    "dist_gender.plot(kind='pie',ax=ax[1],autopct='%0.0f%%')\n",
    "plt.show()"
   ]
  },
  {
   "cell_type": "code",
   "execution_count": 14,
   "id": "0199aaae",
   "metadata": {},
   "outputs": [
    {
     "data": {
      "image/png": "[encoded data removed]",
      "text/plain": [
       "<Figure size 1200x600 with 2 Axes>"
      ]
     },
     "metadata": {},
     "output_type": "display_data"
    }
   ],
   "source": [
    "# What Distribution of size of all Images\n",
    "# Histogram\n",
    "# Box Plot\n",
    "# Split by “Gender”\n",
    "plt.figure(figsize=(12,6))\n",
    "plt.subplot(2,1,1)\n",
    "sns.histplot(df['dimension'])\n",
    "plt.subplot(2,1,2)\n",
    "sns.boxplot(df['dimension'])\n",
    "plt.show()"
   ]
  },
  {
   "cell_type": "code",
   "execution_count": 15,
   "id": "8c708216",
   "metadata": {},
   "outputs": [
    {
     "data": {
      "text/plain": [
       "<seaborn.axisgrid.FacetGrid at 0x13b0a56a0>"
      ]
     },
     "execution_count": 15,
     "metadata": {},
     "output_type": "execute_result"
    },
    {
     "data": {
      "image/png": "[encoded data removed]",
      "text/plain": [
       "<Figure size 511.111x500 with 1 Axes>"
      ]
     },
     "metadata": {},
     "output_type": "display_data"
    }
   ],
   "source": [
    "sns.catplot(data=df,x='gender',y='dimension',kind='box')"
   ]
  },
  {
   "cell_type": "markdown",
   "id": "5c79e813",
   "metadata": {},
   "source": [
    "1. We have almost equal distrbution of gender (numbers)\n",
    "2. Most of the images are having dimension more than 60\n",
    "3. Female most of the female images are HD compare to male images\n",
    "\n",
    "---\n",
    "- **Consider the image with dimensions more than 60**\n",
    "- **Resize all the the image into 100 x 100**"
   ]
  },
  {
   "cell_type": "code",
   "execution_count": 16,
   "id": "d40b8254",
   "metadata": {},
   "outputs": [
    {
     "data": {
      "text/plain": [
       "(5434, 3)"
      ]
     },
     "execution_count": 16,
     "metadata": {},
     "output_type": "execute_result"
    }
   ],
   "source": [
    "df_filter = df.query('dimension > 60')\n",
    "df_filter.shape"
   ]
  },
  {
   "cell_type": "code",
   "execution_count": 17,
   "id": "e69111fd",
   "metadata": {},
   "outputs": [
    {
     "data": {
      "text/plain": [
       "gender\n",
       "female    0.644277\n",
       "male      0.355723\n",
       "Name: proportion, dtype: float64"
      ]
     },
     "execution_count": 17,
     "metadata": {},
     "output_type": "execute_result"
    }
   ],
   "source": [
    "df_filter['gender'].value_counts(normalize=True)"
   ]
  },
  {
   "cell_type": "markdown",
   "id": "6ba7f10b",
   "metadata": {},
   "source": [
    "#### Structure the image \n",
    "- 100 x 100"
   ]
  },
  {
   "cell_type": "code",
   "execution_count": 28,
   "id": "7a8700f8",
   "metadata": {},
   "outputs": [],
   "source": [
    "## CV2 has three main resizing oprions:\n",
    "#1. cv2.INTER_AREA  is used to SHRINK the images\n",
    "#2. cv2.INTER_CUBIC is efficent but slow but its used for enlarging the image\n",
    "#3. cv2.LINEAR is default cv2 resizing option and is also used to enlarge image\n",
    "def structuring(path):\n",
    "    try:\n",
    "\n",
    "        # step - 1: read image\n",
    "        img = cv2.imread(path) # BGR\n",
    "        # step - 2: convert into grayscale\n",
    "        gray = cv2.cvtColor(img,cv2.COLOR_BGR2GRAY)\n",
    "        # step -3: resize into 100 x 100 array   \n",
    "\n",
    "        size = gray.shape[0]\n",
    "        if size >= 100:\n",
    "            # cv2.INTER_AREA (SHINK)\n",
    "            gray_resize = cv2.resize(gray,(100,100),cv2.INTER_AREA)\n",
    "        else:\n",
    "            # cv2.INTER_CUBIC (ENLARGE)\n",
    "            gray_resize = cv2.resize(gray,(100,100),cv2.INTER_CUBIC)\n",
    "\n",
    "        # step -4: Flatten Image (1x10,000)\n",
    "        flatten_image = gray_resize.flatten()\n",
    "        return flatten_image\n",
    "    \n",
    "    except:\n",
    "        return None"
   ]
  },
  {
   "cell_type": "code",
   "execution_count": 29,
   "id": "861860a1",
   "metadata": {},
   "outputs": [
    {
     "data": {
      "text/html": [
       "<div>\n",
       "<style scoped>\n",
       "    .dataframe tbody tr th:only-of-type {\n",
       "        vertical-align: middle;\n",
       "    }\n",
       "\n",
       "    .dataframe tbody tr th {\n",
       "        vertical-align: top;\n",
       "    }\n",
       "\n",
       "    .dataframe thead th {\n",
       "        text-align: right;\n",
       "    }\n",
       "</style>\n",
       "<table border=\"1\" class=\"dataframe\">\n",
       "  <thead>\n",
       "    <tr style=\"text-align: right;\">\n",
       "      <th></th>\n",
       "      <th>filepath</th>\n",
       "      <th>gender</th>\n",
       "      <th>dimension</th>\n",
       "      <th>data</th>\n",
       "    </tr>\n",
       "  </thead>\n",
       "  <tbody>\n",
       "    <tr>\n",
       "      <th>0</th>\n",
       "      <td>./crop_data/female/female_2.jpg</td>\n",
       "      <td>female</td>\n",
       "      <td>273</td>\n",
       "      <td>[21, 19, 24, 25, 24, 28, 33, 46, 62, 68, 77, 9...</td>\n",
       "    </tr>\n",
       "    <tr>\n",
       "      <th>1</th>\n",
       "      <td>./crop_data/female/female_3933.jpg</td>\n",
       "      <td>female</td>\n",
       "      <td>273</td>\n",
       "      <td>[17, 18, 13, 14, 32, 27, 25, 32, 32, 16, 15, 1...</td>\n",
       "    </tr>\n",
       "    <tr>\n",
       "      <th>2</th>\n",
       "      <td>./crop_data/female/female_4084.jpg</td>\n",
       "      <td>female</td>\n",
       "      <td>182</td>\n",
       "      <td>[29, 21, 18, 16, 11, 25, 37, 31, 21, 37, 24, 3...</td>\n",
       "    </tr>\n",
       "    <tr>\n",
       "      <th>4</th>\n",
       "      <td>./crop_data/female/female_2393.jpg</td>\n",
       "      <td>female</td>\n",
       "      <td>182</td>\n",
       "      <td>[46, 45, 41, 45, 45, 46, 43, 47, 52, 49, 47, 4...</td>\n",
       "    </tr>\n",
       "    <tr>\n",
       "      <th>5</th>\n",
       "      <td>./crop_data/female/female_3099.jpg</td>\n",
       "      <td>female</td>\n",
       "      <td>81</td>\n",
       "      <td>[141, 148, 166, 183, 188, 175, 172, 173, 171, ...</td>\n",
       "    </tr>\n",
       "  </tbody>\n",
       "</table>\n",
       "</div>"
      ],
      "text/plain": [
       "                             filepath  gender  dimension  \\\n",
       "0     ./crop_data/female/female_2.jpg  female        273   \n",
       "1  ./crop_data/female/female_3933.jpg  female        273   \n",
       "2  ./crop_data/female/female_4084.jpg  female        182   \n",
       "4  ./crop_data/female/female_2393.jpg  female        182   \n",
       "5  ./crop_data/female/female_3099.jpg  female         81   \n",
       "\n",
       "                                                data  \n",
       "0  [21, 19, 24, 25, 24, 28, 33, 46, 62, 68, 77, 9...  \n",
       "1  [17, 18, 13, 14, 32, 27, 25, 32, 32, 16, 15, 1...  \n",
       "2  [29, 21, 18, 16, 11, 25, 37, 31, 21, 37, 24, 3...  \n",
       "4  [46, 45, 41, 45, 45, 46, 43, 47, 52, 49, 47, 4...  \n",
       "5  [141, 148, 166, 183, 188, 175, 172, 173, 171, ...  "
      ]
     },
     "execution_count": 29,
     "metadata": {},
     "output_type": "execute_result"
    }
   ],
   "source": [
    "df_filter['data'] = df_filter['filepath'].apply(structuring) # convert all images into 100 x 100\n",
    "df_filter.head()"
   ]
  },
  {
   "cell_type": "code",
   "execution_count": 30,
   "id": "cd24fdf5",
   "metadata": {},
   "outputs": [
    {
     "data": {
      "text/html": [
       "<div>\n",
       "<style scoped>\n",
       "    .dataframe tbody tr th:only-of-type {\n",
       "        vertical-align: middle;\n",
       "    }\n",
       "\n",
       "    .dataframe tbody tr th {\n",
       "        vertical-align: top;\n",
       "    }\n",
       "\n",
       "    .dataframe thead th {\n",
       "        text-align: right;\n",
       "    }\n",
       "</style>\n",
       "<table border=\"1\" class=\"dataframe\">\n",
       "  <thead>\n",
       "    <tr style=\"text-align: right;\">\n",
       "      <th></th>\n",
       "      <th>pixel_0</th>\n",
       "      <th>pixel_1</th>\n",
       "      <th>pixel_2</th>\n",
       "      <th>pixel_3</th>\n",
       "      <th>pixel_4</th>\n",
       "      <th>pixel_5</th>\n",
       "      <th>pixel_6</th>\n",
       "      <th>pixel_7</th>\n",
       "      <th>pixel_8</th>\n",
       "      <th>pixel_9</th>\n",
       "      <th>...</th>\n",
       "      <th>pixel_9990</th>\n",
       "      <th>pixel_9991</th>\n",
       "      <th>pixel_9992</th>\n",
       "      <th>pixel_9993</th>\n",
       "      <th>pixel_9994</th>\n",
       "      <th>pixel_9995</th>\n",
       "      <th>pixel_9996</th>\n",
       "      <th>pixel_9997</th>\n",
       "      <th>pixel_9998</th>\n",
       "      <th>pixel_9999</th>\n",
       "    </tr>\n",
       "  </thead>\n",
       "  <tbody>\n",
       "    <tr>\n",
       "      <th>0</th>\n",
       "      <td>21</td>\n",
       "      <td>19</td>\n",
       "      <td>24</td>\n",
       "      <td>25</td>\n",
       "      <td>24</td>\n",
       "      <td>28</td>\n",
       "      <td>33</td>\n",
       "      <td>46</td>\n",
       "      <td>62</td>\n",
       "      <td>68</td>\n",
       "      <td>...</td>\n",
       "      <td>195</td>\n",
       "      <td>195</td>\n",
       "      <td>194</td>\n",
       "      <td>194</td>\n",
       "      <td>194</td>\n",
       "      <td>195</td>\n",
       "      <td>195</td>\n",
       "      <td>195</td>\n",
       "      <td>195</td>\n",
       "      <td>195</td>\n",
       "    </tr>\n",
       "    <tr>\n",
       "      <th>1</th>\n",
       "      <td>17</td>\n",
       "      <td>18</td>\n",
       "      <td>13</td>\n",
       "      <td>14</td>\n",
       "      <td>32</td>\n",
       "      <td>27</td>\n",
       "      <td>25</td>\n",
       "      <td>32</td>\n",
       "      <td>32</td>\n",
       "      <td>16</td>\n",
       "      <td>...</td>\n",
       "      <td>24</td>\n",
       "      <td>28</td>\n",
       "      <td>30</td>\n",
       "      <td>30</td>\n",
       "      <td>29</td>\n",
       "      <td>29</td>\n",
       "      <td>29</td>\n",
       "      <td>29</td>\n",
       "      <td>29</td>\n",
       "      <td>29</td>\n",
       "    </tr>\n",
       "    <tr>\n",
       "      <th>2</th>\n",
       "      <td>29</td>\n",
       "      <td>21</td>\n",
       "      <td>18</td>\n",
       "      <td>16</td>\n",
       "      <td>11</td>\n",
       "      <td>25</td>\n",
       "      <td>37</td>\n",
       "      <td>31</td>\n",
       "      <td>21</td>\n",
       "      <td>37</td>\n",
       "      <td>...</td>\n",
       "      <td>141</td>\n",
       "      <td>140</td>\n",
       "      <td>141</td>\n",
       "      <td>142</td>\n",
       "      <td>141</td>\n",
       "      <td>141</td>\n",
       "      <td>142</td>\n",
       "      <td>142</td>\n",
       "      <td>142</td>\n",
       "      <td>142</td>\n",
       "    </tr>\n",
       "    <tr>\n",
       "      <th>4</th>\n",
       "      <td>46</td>\n",
       "      <td>45</td>\n",
       "      <td>41</td>\n",
       "      <td>45</td>\n",
       "      <td>45</td>\n",
       "      <td>46</td>\n",
       "      <td>43</td>\n",
       "      <td>47</td>\n",
       "      <td>52</td>\n",
       "      <td>49</td>\n",
       "      <td>...</td>\n",
       "      <td>196</td>\n",
       "      <td>184</td>\n",
       "      <td>182</td>\n",
       "      <td>187</td>\n",
       "      <td>181</td>\n",
       "      <td>179</td>\n",
       "      <td>174</td>\n",
       "      <td>163</td>\n",
       "      <td>133</td>\n",
       "      <td>189</td>\n",
       "    </tr>\n",
       "    <tr>\n",
       "      <th>5</th>\n",
       "      <td>141</td>\n",
       "      <td>148</td>\n",
       "      <td>166</td>\n",
       "      <td>183</td>\n",
       "      <td>188</td>\n",
       "      <td>175</td>\n",
       "      <td>172</td>\n",
       "      <td>173</td>\n",
       "      <td>171</td>\n",
       "      <td>167</td>\n",
       "      <td>...</td>\n",
       "      <td>101</td>\n",
       "      <td>73</td>\n",
       "      <td>50</td>\n",
       "      <td>41</td>\n",
       "      <td>45</td>\n",
       "      <td>47</td>\n",
       "      <td>71</td>\n",
       "      <td>102</td>\n",
       "      <td>129</td>\n",
       "      <td>143</td>\n",
       "    </tr>\n",
       "  </tbody>\n",
       "</table>\n",
       "<p>5 rows × 10000 columns</p>\n",
       "</div>"
      ],
      "text/plain": [
       "   pixel_0  pixel_1  pixel_2  pixel_3  pixel_4  pixel_5  pixel_6  pixel_7  \\\n",
       "0       21       19       24       25       24       28       33       46   \n",
       "1       17       18       13       14       32       27       25       32   \n",
       "2       29       21       18       16       11       25       37       31   \n",
       "4       46       45       41       45       45       46       43       47   \n",
       "5      141      148      166      183      188      175      172      173   \n",
       "\n",
       "   pixel_8  pixel_9  ...  pixel_9990  pixel_9991  pixel_9992  pixel_9993  \\\n",
       "0       62       68  ...         195         195         194         194   \n",
       "1       32       16  ...          24          28          30          30   \n",
       "2       21       37  ...         141         140         141         142   \n",
       "4       52       49  ...         196         184         182         187   \n",
       "5      171      167  ...         101          73          50          41   \n",
       "\n",
       "   pixel_9994  pixel_9995  pixel_9996  pixel_9997  pixel_9998  pixel_9999  \n",
       "0         194         195         195         195         195         195  \n",
       "1          29          29          29          29          29          29  \n",
       "2         141         141         142         142         142         142  \n",
       "4         181         179         174         163         133         189  \n",
       "5          45          47          71         102         129         143  \n",
       "\n",
       "[5 rows x 10000 columns]"
      ]
     },
     "execution_count": 30,
     "metadata": {},
     "output_type": "execute_result"
    }
   ],
   "source": [
    "data = df_filter['data'].apply(pd.Series)\n",
    "data.columns = [f\"pixel_{i}\" for i in data.columns]\n",
    "data.head()"
   ]
  },
  {
   "cell_type": "markdown",
   "id": "27e18476",
   "metadata": {},
   "source": [
    "#### Data Normalization"
   ]
  },
  {
   "cell_type": "code",
   "execution_count": 31,
   "id": "7ca32518",
   "metadata": {},
   "outputs": [
    {
     "data": {
      "text/html": [
       "<div>\n",
       "<style scoped>\n",
       "    .dataframe tbody tr th:only-of-type {\n",
       "        vertical-align: middle;\n",
       "    }\n",
       "\n",
       "    .dataframe tbody tr th {\n",
       "        vertical-align: top;\n",
       "    }\n",
       "\n",
       "    .dataframe thead th {\n",
       "        text-align: right;\n",
       "    }\n",
       "</style>\n",
       "<table border=\"1\" class=\"dataframe\">\n",
       "  <thead>\n",
       "    <tr style=\"text-align: right;\">\n",
       "      <th></th>\n",
       "      <th>pixel_0</th>\n",
       "      <th>pixel_1</th>\n",
       "      <th>pixel_2</th>\n",
       "      <th>pixel_3</th>\n",
       "      <th>pixel_4</th>\n",
       "      <th>pixel_5</th>\n",
       "      <th>pixel_6</th>\n",
       "      <th>pixel_7</th>\n",
       "      <th>pixel_8</th>\n",
       "      <th>pixel_9</th>\n",
       "      <th>...</th>\n",
       "      <th>pixel_9991</th>\n",
       "      <th>pixel_9992</th>\n",
       "      <th>pixel_9993</th>\n",
       "      <th>pixel_9994</th>\n",
       "      <th>pixel_9995</th>\n",
       "      <th>pixel_9996</th>\n",
       "      <th>pixel_9997</th>\n",
       "      <th>pixel_9998</th>\n",
       "      <th>pixel_9999</th>\n",
       "      <th>gender</th>\n",
       "    </tr>\n",
       "  </thead>\n",
       "  <tbody>\n",
       "    <tr>\n",
       "      <th>0</th>\n",
       "      <td>0.082353</td>\n",
       "      <td>0.074510</td>\n",
       "      <td>0.094118</td>\n",
       "      <td>0.098039</td>\n",
       "      <td>0.094118</td>\n",
       "      <td>0.109804</td>\n",
       "      <td>0.129412</td>\n",
       "      <td>0.180392</td>\n",
       "      <td>0.243137</td>\n",
       "      <td>0.266667</td>\n",
       "      <td>...</td>\n",
       "      <td>0.764706</td>\n",
       "      <td>0.760784</td>\n",
       "      <td>0.760784</td>\n",
       "      <td>0.760784</td>\n",
       "      <td>0.764706</td>\n",
       "      <td>0.764706</td>\n",
       "      <td>0.764706</td>\n",
       "      <td>0.764706</td>\n",
       "      <td>0.764706</td>\n",
       "      <td>female</td>\n",
       "    </tr>\n",
       "    <tr>\n",
       "      <th>1</th>\n",
       "      <td>0.066667</td>\n",
       "      <td>0.070588</td>\n",
       "      <td>0.050980</td>\n",
       "      <td>0.054902</td>\n",
       "      <td>0.125490</td>\n",
       "      <td>0.105882</td>\n",
       "      <td>0.098039</td>\n",
       "      <td>0.125490</td>\n",
       "      <td>0.125490</td>\n",
       "      <td>0.062745</td>\n",
       "      <td>...</td>\n",
       "      <td>0.109804</td>\n",
       "      <td>0.117647</td>\n",
       "      <td>0.117647</td>\n",
       "      <td>0.113725</td>\n",
       "      <td>0.113725</td>\n",
       "      <td>0.113725</td>\n",
       "      <td>0.113725</td>\n",
       "      <td>0.113725</td>\n",
       "      <td>0.113725</td>\n",
       "      <td>female</td>\n",
       "    </tr>\n",
       "    <tr>\n",
       "      <th>2</th>\n",
       "      <td>0.113725</td>\n",
       "      <td>0.082353</td>\n",
       "      <td>0.070588</td>\n",
       "      <td>0.062745</td>\n",
       "      <td>0.043137</td>\n",
       "      <td>0.098039</td>\n",
       "      <td>0.145098</td>\n",
       "      <td>0.121569</td>\n",
       "      <td>0.082353</td>\n",
       "      <td>0.145098</td>\n",
       "      <td>...</td>\n",
       "      <td>0.549020</td>\n",
       "      <td>0.552941</td>\n",
       "      <td>0.556863</td>\n",
       "      <td>0.552941</td>\n",
       "      <td>0.552941</td>\n",
       "      <td>0.556863</td>\n",
       "      <td>0.556863</td>\n",
       "      <td>0.556863</td>\n",
       "      <td>0.556863</td>\n",
       "      <td>female</td>\n",
       "    </tr>\n",
       "    <tr>\n",
       "      <th>4</th>\n",
       "      <td>0.180392</td>\n",
       "      <td>0.176471</td>\n",
       "      <td>0.160784</td>\n",
       "      <td>0.176471</td>\n",
       "      <td>0.176471</td>\n",
       "      <td>0.180392</td>\n",
       "      <td>0.168627</td>\n",
       "      <td>0.184314</td>\n",
       "      <td>0.203922</td>\n",
       "      <td>0.192157</td>\n",
       "      <td>...</td>\n",
       "      <td>0.721569</td>\n",
       "      <td>0.713725</td>\n",
       "      <td>0.733333</td>\n",
       "      <td>0.709804</td>\n",
       "      <td>0.701961</td>\n",
       "      <td>0.682353</td>\n",
       "      <td>0.639216</td>\n",
       "      <td>0.521569</td>\n",
       "      <td>0.741176</td>\n",
       "      <td>female</td>\n",
       "    </tr>\n",
       "    <tr>\n",
       "      <th>5</th>\n",
       "      <td>0.552941</td>\n",
       "      <td>0.580392</td>\n",
       "      <td>0.650980</td>\n",
       "      <td>0.717647</td>\n",
       "      <td>0.737255</td>\n",
       "      <td>0.686275</td>\n",
       "      <td>0.674510</td>\n",
       "      <td>0.678431</td>\n",
       "      <td>0.670588</td>\n",
       "      <td>0.654902</td>\n",
       "      <td>...</td>\n",
       "      <td>0.286275</td>\n",
       "      <td>0.196078</td>\n",
       "      <td>0.160784</td>\n",
       "      <td>0.176471</td>\n",
       "      <td>0.184314</td>\n",
       "      <td>0.278431</td>\n",
       "      <td>0.400000</td>\n",
       "      <td>0.505882</td>\n",
       "      <td>0.560784</td>\n",
       "      <td>female</td>\n",
       "    </tr>\n",
       "  </tbody>\n",
       "</table>\n",
       "<p>5 rows × 10001 columns</p>\n",
       "</div>"
      ],
      "text/plain": [
       "    pixel_0   pixel_1   pixel_2   pixel_3   pixel_4   pixel_5   pixel_6  \\\n",
       "0  0.082353  0.074510  0.094118  0.098039  0.094118  0.109804  0.129412   \n",
       "1  0.066667  0.070588  0.050980  0.054902  0.125490  0.105882  0.098039   \n",
       "2  0.113725  0.082353  0.070588  0.062745  0.043137  0.098039  0.145098   \n",
       "4  0.180392  0.176471  0.160784  0.176471  0.176471  0.180392  0.168627   \n",
       "5  0.552941  0.580392  0.650980  0.717647  0.737255  0.686275  0.674510   \n",
       "\n",
       "    pixel_7   pixel_8   pixel_9  ...  pixel_9991  pixel_9992  pixel_9993  \\\n",
       "0  0.180392  0.243137  0.266667  ...    0.764706    0.760784    0.760784   \n",
       "1  0.125490  0.125490  0.062745  ...    0.109804    0.117647    0.117647   \n",
       "2  0.121569  0.082353  0.145098  ...    0.549020    0.552941    0.556863   \n",
       "4  0.184314  0.203922  0.192157  ...    0.721569    0.713725    0.733333   \n",
       "5  0.678431  0.670588  0.654902  ...    0.286275    0.196078    0.160784   \n",
       "\n",
       "   pixel_9994  pixel_9995  pixel_9996  pixel_9997  pixel_9998  pixel_9999  \\\n",
       "0    0.760784    0.764706    0.764706    0.764706    0.764706    0.764706   \n",
       "1    0.113725    0.113725    0.113725    0.113725    0.113725    0.113725   \n",
       "2    0.552941    0.552941    0.556863    0.556863    0.556863    0.556863   \n",
       "4    0.709804    0.701961    0.682353    0.639216    0.521569    0.741176   \n",
       "5    0.176471    0.184314    0.278431    0.400000    0.505882    0.560784   \n",
       "\n",
       "   gender  \n",
       "0  female  \n",
       "1  female  \n",
       "2  female  \n",
       "4  female  \n",
       "5  female  \n",
       "\n",
       "[5 rows x 10001 columns]"
      ]
     },
     "execution_count": 31,
     "metadata": {},
     "output_type": "execute_result"
    }
   ],
   "source": [
    "# since for 8 bit image max value is 255 \n",
    "# therefore we are dividing each and every pixel with 255\n",
    "data = data/255.0\n",
    "data['gender'] = df_filter['gender']\n",
    "data.head()"
   ]
  },
  {
   "cell_type": "code",
   "execution_count": 32,
   "id": "1a7b4099",
   "metadata": {},
   "outputs": [
    {
     "data": {
      "text/plain": [
       "np.int64(0)"
      ]
     },
     "execution_count": 32,
     "metadata": {},
     "output_type": "execute_result"
    }
   ],
   "source": [
    "###\n",
    "data.isnull().sum().sum()"
   ]
  },
  {
   "cell_type": "code",
   "execution_count": 33,
   "id": "5d5e3b19",
   "metadata": {},
   "outputs": [],
   "source": [
    "## remove the missing values\n",
    "data.dropna(inplace=True)"
   ]
  },
  {
   "cell_type": "code",
   "execution_count": 34,
   "id": "7fce6223",
   "metadata": {},
   "outputs": [
    {
     "data": {
      "text/plain": [
       "(5434, 10001)"
      ]
     },
     "execution_count": 34,
     "metadata": {},
     "output_type": "execute_result"
    }
   ],
   "source": [
    "data.shape"
   ]
  },
  {
   "cell_type": "markdown",
   "id": "d5037ea1",
   "metadata": {},
   "source": [
    "**Save the data** for future study"
   ]
  },
  {
   "cell_type": "code",
   "execution_count": 35,
   "id": "2713b9ed",
   "metadata": {},
   "outputs": [],
   "source": [
    "import pickle"
   ]
  },
  {
   "cell_type": "code",
   "execution_count": 36,
   "id": "11a2caeb",
   "metadata": {},
   "outputs": [],
   "source": [
    "pickle.dump(data,open('./data/data_images_100_100.pickle',mode='wb'))"
   ]
  },
  {
   "cell_type": "markdown",
   "id": "763e5851",
   "metadata": {},
   "source": [
    "---\n",
    "### END"
   ]
  }
 ],
 "metadata": {
  "kernelspec": {
   "display_name": "venv",
   "language": "python",
   "name": "python3"
  },
  "language_info": {
   "codemirror_mode": {
    "name": "ipython",
    "version": 3
   },
   "file_extension": ".py",
   "mimetype": "text/x-python",
   "name": "python",
   "nbconvert_exporter": "python",
   "pygments_lexer": "ipython3",
   "version": "3.13.7"
  }
 },
 "nbformat": 4,
 "nbformat_minor": 5
}
